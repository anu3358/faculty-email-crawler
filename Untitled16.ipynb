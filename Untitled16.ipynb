{
  "cells": [
    {
      "cell_type": "markdown",
      "metadata": {
        "id": "view-in-github",
        "colab_type": "text"
      },
      "source": [
        "<a href=\"https://colab.research.google.com/github/anu3358/faculty-email-crawler/blob/main/Untitled16.ipynb\" target=\"_parent\"><img src=\"https://colab.research.google.com/assets/colab-badge.svg\" alt=\"Open In Colab\"/></a>"
      ]
    },
    {
      "cell_type": "code",
      "execution_count": null,
      "metadata": {
        "colab": {
          "base_uri": "https://localhost:8080/"
        },
        "id": "vD5AvgnaWXJX",
        "outputId": "478160ae-b7c5-4136-e831-42346a1deb9f"
      },
      "outputs": [
        {
          "output_type": "stream",
          "name": "stdout",
          "text": [
            "Found emails:\n",
            "amardeep_dhiman@yahoo.com\n",
            "amrit.tiet@gmail.com\n",
            "arsh812@yahoo.co.in\n",
            "bhandarinitj@gmail.com\n",
            "boparai.dolly@gmail.com\n",
            "brahmaleen.sidhu@gmail.com\n",
            "charanjiv_saroa@yahoo.com\n",
            "cheemasikander8@gmail.com\n",
            "deepgaurav48@pbi.ac.in\n",
            "dhavleesh@gmail.com\n",
            "gaurav.shakti@gmail.com\n",
            "gurjit.bhathal@gmail.com\n",
            "gurpreet.1887@gmail.com\n",
            "harmanjhajj@yahoo.co.in\n",
            "himanshu@pbi.ac.in\n",
            "jagroop_80@rediffmail.com\n",
            "jarial.priyanka@gmail.com\n",
            "jassiccet@gmail.com\n",
            "jaswindersinghmtech@gmail.com\n",
            "kahlon.navroz3@gmail.com\n",
            "kanwalp78@yahoo.com\n",
            "karan_rob7@yahoo.co.in\n",
            "khasria.harpreet@gmail.com\n",
            "lc_panwar@yahoo.com\n",
            "mahal2k8@yahoomail.com\n",
            "mavi_navneet@yahoo.co.in\n",
            "mlgtb@rediffmail.com\n",
            "navdeepkanwal@gmail.com\n",
            "navdeepsony@gmail.com\n",
            "navjot_anttal@yahoo.co.in\n",
            "nirvair_neeru@yahoo.com\n",
            "research_raman@yahoo.com\n",
            "rksinghrajput@gmail.com\n",
            "sohi_ce@yahoo.co.in\n",
            "sukhwinder.sran@gmail.com\n",
            "sumandhanjal@gmail.com\n",
            "supreetgill13@gmail.com\n",
            "williamjeet@gmail.com\n"
          ]
        }
      ],
      "source": [
        "import requests\n",
        "from bs4 import BeautifulSoup\n",
        "import re\n",
        "\n",
        "# URL for CSE department page with email details\n",
        "url = \"https://www.punjabiuniversity.ac.in/pages/Courses.aspx?Id=18\"\n",
        "\n",
        "headers = {\n",
        "    \"User-Agent\": \"Mozilla/5.0\"\n",
        "}\n",
        "\n",
        "response = requests.get(url, headers=headers)\n",
        "if response.status_code != 200:\n",
        "    print(f\"Error: HTTP {response.status_code} fetching page.\")\n",
        "    exit()\n",
        "\n",
        "soup = BeautifulSoup(response.text, 'html.parser')\n",
        "text = soup.get_text()\n",
        "\n",
        "emails = re.findall(r\"[a-zA-Z0-9._%+-]+@[a-zA-Z0-9.-]+\\.[a-zA-Z]{2,}\", text)\n",
        "unique_emails = set(emails)\n",
        "\n",
        "print(\"Found emails:\")\n",
        "for email in sorted(unique_emails):\n",
        "    print(email)\n",
        "\n"
      ]
    }
  ],
  "metadata": {
    "colab": {
      "provenance": [],
      "include_colab_link": true
    },
    "kernelspec": {
      "display_name": "Python 3",
      "name": "python3"
    },
    "language_info": {
      "name": "python"
    }
  },
  "nbformat": 4,
  "nbformat_minor": 0
}